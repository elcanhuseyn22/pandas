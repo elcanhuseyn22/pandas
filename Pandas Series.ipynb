{
 "cells": [
  {
   "cell_type": "code",
   "execution_count": 1,
   "id": "9f49148e",
   "metadata": {},
   "outputs": [],
   "source": [
    "import numpy as np\n",
    "import pandas as pd"
   ]
  },
  {
   "cell_type": "code",
   "execution_count": 6,
   "id": "06ab171c",
   "metadata": {},
   "outputs": [],
   "source": [
    "labels_list = np.array([\"Elcan\",\"Ruslan\",\"Nurlan\",\"Shahmar\",\"Serdar\"])\n",
    "data_list = np.array([10,20,30,40,50])"
   ]
  },
  {
   "cell_type": "code",
   "execution_count": 7,
   "id": "3706fc0e",
   "metadata": {},
   "outputs": [
    {
     "data": {
      "text/plain": [
       "Elcan      10\n",
       "Ruslan     20\n",
       "Nurlan     30\n",
       "Shahmar    40\n",
       "Serdar     50\n",
       "dtype: int32"
      ]
     },
     "execution_count": 7,
     "metadata": {},
     "output_type": "execute_result"
    }
   ],
   "source": [
    "pd.Series(data = data_list,index = labels_list)"
   ]
  },
  {
   "cell_type": "code",
   "execution_count": 8,
   "id": "88bdb1ae",
   "metadata": {},
   "outputs": [
    {
     "data": {
      "text/plain": [
       "array(['Elcan', 'Ruslan', 'Nurlan', 'Shahmar', 'Serdar'], dtype='<U7')"
      ]
     },
     "execution_count": 8,
     "metadata": {},
     "output_type": "execute_result"
    }
   ],
   "source": [
    "labels_list"
   ]
  },
  {
   "cell_type": "code",
   "execution_count": 9,
   "id": "30b3977b",
   "metadata": {},
   "outputs": [
    {
     "data": {
      "text/plain": [
       "0    10\n",
       "1    20\n",
       "2    30\n",
       "3    40\n",
       "4    50\n",
       "dtype: int32"
      ]
     },
     "execution_count": 9,
     "metadata": {},
     "output_type": "execute_result"
    }
   ],
   "source": [
    "pd.Series(data_list)"
   ]
  },
  {
   "cell_type": "code",
   "execution_count": 10,
   "id": "e22f521c",
   "metadata": {},
   "outputs": [
    {
     "data": {
      "text/plain": [
       "0      Elcan\n",
       "1     Ruslan\n",
       "2     Nurlan\n",
       "3    Shahmar\n",
       "4     Serdar\n",
       "dtype: object"
      ]
     },
     "execution_count": 10,
     "metadata": {},
     "output_type": "execute_result"
    }
   ],
   "source": [
    "pd.Series(labels_list)"
   ]
  },
  {
   "cell_type": "code",
   "execution_count": 11,
   "id": "6aea049d",
   "metadata": {},
   "outputs": [],
   "source": [
    "npArray = np.array([10,20,30,40,50])"
   ]
  },
  {
   "cell_type": "code",
   "execution_count": 12,
   "id": "1214638b",
   "metadata": {},
   "outputs": [
    {
     "data": {
      "text/plain": [
       "0    10\n",
       "1    20\n",
       "2    30\n",
       "3    40\n",
       "4    50\n",
       "dtype: int32"
      ]
     },
     "execution_count": 12,
     "metadata": {},
     "output_type": "execute_result"
    }
   ],
   "source": [
    "pd.Series(npArray)"
   ]
  },
  {
   "cell_type": "code",
   "execution_count": 13,
   "id": "2a1acf8d",
   "metadata": {},
   "outputs": [
    {
     "data": {
      "text/plain": [
       "Elcan      10\n",
       "Ruslan     20\n",
       "Nurlan     30\n",
       "Shahmar    40\n",
       "Serdar     50\n",
       "dtype: int32"
      ]
     },
     "execution_count": 13,
     "metadata": {},
     "output_type": "execute_result"
    }
   ],
   "source": [
    "pd.Series(npArray,labels_list)"
   ]
  },
  {
   "cell_type": "code",
   "execution_count": 16,
   "id": "4b51dd92",
   "metadata": {},
   "outputs": [
    {
     "data": {
      "text/plain": [
       "A    10\n",
       "B    20\n",
       "C    30\n",
       "D    40\n",
       "E    50\n",
       "dtype: int32"
      ]
     },
     "execution_count": 16,
     "metadata": {},
     "output_type": "execute_result"
    }
   ],
   "source": [
    "pd.Series(data = npArray, index = [\"A\",\"B\",\"C\",\"D\",\"E\"])"
   ]
  },
  {
   "cell_type": "code",
   "execution_count": 17,
   "id": "c3d63a7d",
   "metadata": {},
   "outputs": [],
   "source": [
    "dataDict = {\"Elcan\":40,\"Ruslan\":50,\"Nurlan\":45,\"Shahmar\":45,\"Serdar\":46}"
   ]
  },
  {
   "cell_type": "code",
   "execution_count": 20,
   "id": "eb4f6891",
   "metadata": {},
   "outputs": [
    {
     "data": {
      "text/plain": [
       "Elcan      40\n",
       "Ruslan     50\n",
       "Nurlan     45\n",
       "Shahmar    45\n",
       "Serdar     46\n",
       "dtype: int64"
      ]
     },
     "execution_count": 20,
     "metadata": {},
     "output_type": "execute_result"
    }
   ],
   "source": [
    "pd.Series(dataDict)"
   ]
  },
  {
   "cell_type": "code",
   "execution_count": 26,
   "id": "e049bcb6",
   "metadata": {},
   "outputs": [],
   "source": [
    "ser2021 = pd.Series(data = [5,10,14,20],index = [\"Arpa\",\"Bugda\",\"Qargidali\",\"Yonca\"])  "
   ]
  },
  {
   "cell_type": "code",
   "execution_count": 23,
   "id": "30a4b490",
   "metadata": {},
   "outputs": [
    {
     "data": {
      "text/plain": [
       "Arpa          5\n",
       "Bugda        10\n",
       "Qargidali    14\n",
       "Yonca        20\n",
       "dtype: int64"
      ]
     },
     "execution_count": 23,
     "metadata": {},
     "output_type": "execute_result"
    }
   ],
   "source": [
    "ser2021"
   ]
  },
  {
   "cell_type": "code",
   "execution_count": 29,
   "id": "7aa29426",
   "metadata": {},
   "outputs": [],
   "source": [
    "ser2020 = pd.Series(data = [3,7,12,24],index = [\"Arpa\",\"Bugda\",\"Qargidali\",\"Duyu\"])  "
   ]
  },
  {
   "cell_type": "code",
   "execution_count": 30,
   "id": "85dd6d44",
   "metadata": {},
   "outputs": [
    {
     "data": {
      "text/plain": [
       "Arpa          3\n",
       "Bugda         7\n",
       "Qargidali    12\n",
       "Duyu         24\n",
       "dtype: int64"
      ]
     },
     "execution_count": 30,
     "metadata": {},
     "output_type": "execute_result"
    }
   ],
   "source": [
    "ser2020"
   ]
  },
  {
   "cell_type": "code",
   "execution_count": 32,
   "id": "0637bb42",
   "metadata": {},
   "outputs": [
    {
     "name": "stdout",
     "output_type": "stream",
     "text": [
      "Arpa          8.0\n",
      "Bugda        17.0\n",
      "Duyu          NaN\n",
      "Qargidali    26.0\n",
      "Yonca         NaN\n",
      "dtype: float64\n"
     ]
    }
   ],
   "source": [
    "print(ser2021+ser2020)"
   ]
  },
  {
   "cell_type": "code",
   "execution_count": 33,
   "id": "a199a981",
   "metadata": {},
   "outputs": [],
   "source": [
    "total = ser2020+ser2021"
   ]
  },
  {
   "cell_type": "code",
   "execution_count": 34,
   "id": "144d5150",
   "metadata": {},
   "outputs": [
    {
     "data": {
      "text/plain": [
       "Arpa          8.0\n",
       "Bugda        17.0\n",
       "Duyu          NaN\n",
       "Qargidali    26.0\n",
       "Yonca         NaN\n",
       "dtype: float64"
      ]
     },
     "execution_count": 34,
     "metadata": {},
     "output_type": "execute_result"
    }
   ],
   "source": [
    "total"
   ]
  },
  {
   "cell_type": "code",
   "execution_count": 35,
   "id": "4aff647d",
   "metadata": {},
   "outputs": [
    {
     "data": {
      "text/plain": [
       "nan"
      ]
     },
     "execution_count": 35,
     "metadata": {},
     "output_type": "execute_result"
    }
   ],
   "source": [
    "total[\"Duyu\"]"
   ]
  },
  {
   "cell_type": "code",
   "execution_count": 37,
   "id": "9036ed57",
   "metadata": {},
   "outputs": [
    {
     "data": {
      "text/plain": [
       "17.0"
      ]
     },
     "execution_count": 37,
     "metadata": {},
     "output_type": "execute_result"
    }
   ],
   "source": [
    "total[\"Bugda\"]"
   ]
  }
 ],
 "metadata": {
  "kernelspec": {
   "display_name": "Python 3",
   "language": "python",
   "name": "python3"
  },
  "language_info": {
   "codemirror_mode": {
    "name": "ipython",
    "version": 3
   },
   "file_extension": ".py",
   "mimetype": "text/x-python",
   "name": "python",
   "nbconvert_exporter": "python",
   "pygments_lexer": "ipython3",
   "version": "3.8.8"
  }
 },
 "nbformat": 4,
 "nbformat_minor": 5
}
