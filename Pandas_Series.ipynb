{
 "cells": [
  {
   "cell_type": "code",
   "execution_count": 1,
   "id": "68b6c95d",
   "metadata": {},
   "outputs": [],
   "source": [
    "import numpy as np\n",
    "import pandas as pd"
   ]
  },
  {
   "cell_type": "code",
   "execution_count": 2,
   "id": "b74bfb78",
   "metadata": {},
   "outputs": [],
   "source": [
    "labels_list  = [\"BMW M5\",\"BMW M3\",\"MERCEDES AMG300\",\"MERCEDES BENZ\",\"FORD FOCUS\"]\n",
    "data_list = [\"250000$\",\"200000$\",\"230000$\",\"350000$\",\"63000$\"]"
   ]
  },
  {
   "cell_type": "code",
   "execution_count": 4,
   "id": "ce919b7c",
   "metadata": {},
   "outputs": [],
   "source": [
    "series = pd.Series(data = data_list,index = labels_list)"
   ]
  },
  {
   "cell_type": "code",
   "execution_count": 5,
   "id": "7ca1d2c4",
   "metadata": {},
   "outputs": [
    {
     "data": {
      "text/plain": [
       "BMW M5             250000$\n",
       "BMW M3             200000$\n",
       "MERCEDES AMG300    230000$\n",
       "MERCEDES BENZ      350000$\n",
       "FORD FOCUS          63000$\n",
       "dtype: object"
      ]
     },
     "execution_count": 5,
     "metadata": {},
     "output_type": "execute_result"
    }
   ],
   "source": [
    "series"
   ]
  },
  {
   "cell_type": "code",
   "execution_count": 7,
   "id": "ab18dc86",
   "metadata": {},
   "outputs": [
    {
     "data": {
      "text/plain": [
       "'250000$'"
      ]
     },
     "execution_count": 7,
     "metadata": {},
     "output_type": "execute_result"
    }
   ],
   "source": [
    "series[\"BMW M5\"]"
   ]
  }
 ],
 "metadata": {
  "kernelspec": {
   "display_name": "Python 3",
   "language": "python",
   "name": "python3"
  },
  "language_info": {
   "codemirror_mode": {
    "name": "ipython",
    "version": 3
   },
   "file_extension": ".py",
   "mimetype": "text/x-python",
   "name": "python",
   "nbconvert_exporter": "python",
   "pygments_lexer": "ipython3",
   "version": "3.8.8"
  }
 },
 "nbformat": 4,
 "nbformat_minor": 5
}
